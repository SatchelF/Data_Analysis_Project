{
 "cells": [
  {
   "cell_type": "markdown",
   "metadata": {},
   "source": [
    "# Learning Model\n",
    "## Objective\n",
    "\n",
    "This notebook focuses on building a learning model with the different data processing of the other notebooks.\n",
    "\n",
    "## Data Loading and Preprocessing\n",
    "- **Data Sources**: We utilized CSV files from previous notebooks\n",
    "- **Preprocessing Steps**:\n",
    "  - loading dta from csv files and removing any unnecessary and unused columns.\n",
    "  - Assign meaningful column names based on the data structure.\n",
    "  - Convert the 'Date' column to datetime format for better manipulation.\n",
    "  - merge databases and provide meaningful attribute names.\n",
    "\n",
    "## Analysis Overview\n",
    "- **Prediction**:\n",
    "  - Created a prediction model to predict whether gas price will go up or down based the month.\n",
    "  - Created a prediction model to predict whether gas price will go up or down based on inflation, current president party, month, year, and current world event if any.\n",
    "\n",
    "\n",
    "## Results\n",
    "- **Prediction**:\n",
    "  - Received a 60 percent accuracy of inflation predicting based off of what month the gas price is in.\n",
    "  - Recieved a 55 percent accuacy of inflation predicting based off of inflation, current president party, month, year, and current world event if any.\n",
    "\n",
    "\n",
    "\n",
    "## Conclusion\n",
    "- Months can help predict whether a gas price will go up or down\n",
    "\n",
    "## Future Steps to make model better\n",
    "- investigate more options into what would increase the accuracy of our predicting model\n",
    "\n",
    "\n",
    "\n"
   ]
  },
  {
   "cell_type": "code",
   "execution_count": 75,
   "metadata": {},
   "outputs": [
    {
     "name": "stdout",
     "output_type": "stream",
     "text": [
      "          Date  Gas Price  Month  Year\n",
      "0   1990-08-31      1.191      8  1990\n",
      "1   1990-09-30      1.242      9  1990\n",
      "2   1990-10-31      1.321     10  1990\n",
      "3   1990-11-30      1.334     11  1990\n",
      "4   1990-12-31      1.341     12  1990\n",
      "..         ...        ...    ...   ...\n",
      "400 2023-12-31      3.104     12  2023\n",
      "401 2024-01-31      2.966      1  2024\n",
      "402 2024-02-29      3.021      2  2024\n",
      "403 2024-03-31      3.243      3  2024\n",
      "404 2024-04-30      3.401      4  2024\n",
      "\n",
      "[405 rows x 4 columns]\n"
     ]
    }
   ],
   "source": [
    "import pandas as pd\n",
    "import matplotlib.pyplot as plt\n",
    "\n",
    "df = pd.read_csv(\"Data/Data1_Regular_Conventional.csv\", header=2)\n",
    "df = df.iloc[:-1, :2]\n",
    "new_headers = ['Date', 'Gas Price']  # Specify your new column names here\n",
    "df['Date'] = pd.to_datetime(df['Date'])\n",
    "df.columns = new_headers\n",
    "df['Month'] = df['Date'].dt.month\n",
    "df['Year'] = df['Date'].dt.year\n",
    "\n",
    "\n",
    "df = df.set_index('Date').resample('M').first().reset_index()\n",
    "print(df)"
   ]
  },
  {
   "cell_type": "code",
   "execution_count": 76,
   "metadata": {},
   "outputs": [
    {
     "name": "stdout",
     "output_type": "stream",
     "text": [
      "          Date  Gas Price  Month  Year  Price Change Change Direction\n",
      "0   1990-08-31      1.191      8  1990           NaN        No Change\n",
      "1   1990-09-30      1.242      9  1990         0.051               Up\n",
      "2   1990-10-31      1.321     10  1990         0.079               Up\n",
      "3   1990-11-30      1.334     11  1990         0.013               Up\n",
      "4   1990-12-31      1.341     12  1990         0.007               Up\n",
      "..         ...        ...    ...   ...           ...              ...\n",
      "400 2023-12-31      3.104     12  2023        -0.141             Down\n",
      "401 2024-01-31      2.966      1  2024        -0.138             Down\n",
      "402 2024-02-29      3.021      2  2024         0.055               Up\n",
      "403 2024-03-31      3.243      3  2024         0.222               Up\n",
      "404 2024-04-30      3.401      4  2024         0.158               Up\n",
      "\n",
      "[405 rows x 6 columns]\n"
     ]
    }
   ],
   "source": [
    "df['Price Change'] = df['Gas Price'].diff()\n",
    "\n",
    "# Define a function to label price changes as 'Up', 'Down', or 'No Change'\n",
    "def label_change(change):\n",
    "    if change > 0:\n",
    "        return 'Up'\n",
    "    elif change < 0:\n",
    "        return 'Down'\n",
    "    else:\n",
    "        return 'No Change'\n",
    "\n",
    "# Apply the function to create the 'Change Direction' column\n",
    "df['Change Direction'] = df['Price Change'].apply(label_change)\n",
    "\n",
    "\n",
    "# Display the DataFrame with the new columns\n",
    "print(df)"
   ]
  },
  {
   "cell_type": "code",
   "execution_count": 97,
   "metadata": {},
   "outputs": [
    {
     "name": "stdout",
     "output_type": "stream",
     "text": [
      "Accuracy: 0.6018518518518519\n"
     ]
    }
   ],
   "source": [
    "from sklearn.model_selection import train_test_split\n",
    "from sklearn.ensemble import RandomForestClassifier\n",
    "from sklearn.metrics import accuracy_score\n",
    "\n",
    "# Assuming df is your DataFrame containing gas prices, including the 'Change Direction' and 'Inflation' columns\n",
    "\n",
    "# Define features (inflation) and target variable (change direction)\n",
    "X = df[['Month']]\n",
    "Y = df['Change Direction']\n",
    "\n",
    "# Split the data into training and testing sets\n",
    "X_train, X_test, Y_train, Y_test = train_test_split(X, Y, test_size=0.8)\n",
    "\n",
    "# Initialize and train the model (Random Forest Classifier)\n",
    "model = RandomForestClassifier()\n",
    "model.fit(X_train, Y_train)\n",
    "\n",
    "# Predict on the testing set\n",
    "y_pred = model.predict(X_test)\n",
    "\n",
    "# Evaluate model performance (accuracy)\n",
    "accuracy = accuracy_score(Y_test, y_pred)\n",
    "print(\"Accuracy:\", accuracy)"
   ]
  },
  {
   "cell_type": "code",
   "execution_count": 78,
   "metadata": {},
   "outputs": [
    {
     "name": "stdout",
     "output_type": "stream",
     "text": [
      "          Date  Gas Price  Month  Year  Price Change Change Direction  \\\n",
      "0   1990-08-31      1.191      8  1990           NaN        No Change   \n",
      "1   1990-09-30      1.242      9  1990         0.051               Up   \n",
      "2   1990-10-31      1.321     10  1990         0.079               Up   \n",
      "3   1990-11-30      1.334     11  1990         0.013               Up   \n",
      "4   1990-12-31      1.341     12  1990         0.007               Up   \n",
      "..         ...        ...    ...   ...           ...              ...   \n",
      "384 2022-08-31      4.034      8  2022        -0.585             Down   \n",
      "385 2022-09-30      3.617      9  2022        -0.417             Down   \n",
      "386 2022-10-31      3.592     10  2022        -0.025             Down   \n",
      "387 2022-11-30      3.628     11  2022         0.036               Up   \n",
      "388 2022-12-31      3.260     12  2022        -0.368             Down   \n",
      "\n",
      "     Inflation Rate  Inflation Change Inflation Direction  Iraq War  \\\n",
      "0          5.397956               NaN           No Change         0   \n",
      "1          5.397956               0.0           No Change         0   \n",
      "2          5.397956               0.0           No Change         0   \n",
      "3          5.397956               0.0           No Change         0   \n",
      "4          5.397956               0.0           No Change         0   \n",
      "..              ...               ...                 ...       ...   \n",
      "384        8.002800               0.0           No Change         0   \n",
      "385        8.002800               0.0           No Change         0   \n",
      "386        8.002800               0.0           No Change         0   \n",
      "387        8.002800               0.0           No Change         0   \n",
      "388        8.002800               0.0           No Change         0   \n",
      "\n",
      "     Financial Crisis  COVID-19 Pandemic  Democrat Term  Republican Term  \n",
      "0                   0                  0              0                0  \n",
      "1                   0                  0              0                0  \n",
      "2                   0                  0              0                0  \n",
      "3                   0                  0              0                0  \n",
      "4                   0                  0              0                0  \n",
      "..                ...                ...            ...              ...  \n",
      "384                 0                  1              1                0  \n",
      "385                 0                  1              1                0  \n",
      "386                 0                  1              1                0  \n",
      "387                 0                  1              1                0  \n",
      "388                 0                  1              1                0  \n",
      "\n",
      "[389 rows x 14 columns]\n"
     ]
    }
   ],
   "source": [
    "# adding inflation\n",
    "\n",
    "new_headers = ['Date', 'Inflation Rate']\n",
    "\n",
    "df_inflation = pd.read_csv(\"Data/Inflation_rate_in_US_yearly.csv\")\n",
    "df_inflation.columns = new_headers\n",
    "df_inflation['Date'] = pd.to_datetime(df_inflation['Date'])\n",
    "df_inflation['Year'] = df_inflation['Date'].dt.year\n",
    "df_inflation = df_inflation[df_inflation['Year'] >= 1990]\n",
    "df_inflation.drop(columns=['Date'], inplace=True)\n",
    "\n",
    "merged_df = pd.merge(df, df_inflation, on='Year', how='inner')\n",
    "merged_df.reset_index()\n",
    "\n",
    "\n",
    "merged_df['Inflation Change'] = merged_df['Inflation Rate'].diff()\n",
    "merged_df['Inflation Direction'] = merged_df['Inflation Change'].apply(label_change)\n",
    "\n",
    "\n",
    "# adding world events\n",
    "\n",
    "iraq_war_start, iraq_war_end = '2003-01-01', '2003-12-31'\n",
    "financial_crisis_start, financial_crisis_end = '2007-12-01', '2009-06-30'\n",
    "covid_start, covid_end = '2020-01-01', '2023-12-31'  # Adjust end date as per your data availability\n",
    "\n",
    "# Create new columns for world events\n",
    "merged_df['Iraq War'] = (merged_df['Date'] >= iraq_war_start) & (merged_df['Date'] <= iraq_war_end)\n",
    "merged_df['Financial Crisis'] = (merged_df['Date'] >= financial_crisis_start) & (merged_df['Date'] <= financial_crisis_end)\n",
    "merged_df['COVID-19 Pandemic'] = (merged_df['Date'] >= covid_start) & (merged_df['Date'] <= covid_end)\n",
    "\n",
    "# Convert boolean values to integers (0 or 1)\n",
    "merged_df[['Iraq War', 'Financial Crisis', 'COVID-19 Pandemic']] = merged_df[['Iraq War', 'Financial Crisis', 'COVID-19 Pandemic']].astype(int)\n",
    "\n",
    "\n",
    "\n",
    "\n",
    "# adding presidential terms\n",
    "\n",
    "presidential_terms = {\n",
    "    'Democrat': [(1993, 1996), (1997, 2000), (2009, 2012), (2013, 2016), (2021, 2024)],\n",
    "    'Republican': [(2001, 2004), (2005, 2008), (2017, 2020)]\n",
    "}\n",
    "\n",
    "# Create new columns for presidential terms\n",
    "merged_df['Democrat Term'] = 0\n",
    "merged_df['Republican Term'] = 0\n",
    "\n",
    "# Iterate through the presidential terms dictionary\n",
    "for party, terms in presidential_terms.items():\n",
    "    for term_start, term_end in terms:\n",
    "        merged_df.loc[(merged_df['Year'] >= term_start) & (merged_df['Year'] <= term_end), f'{party} Term'] = 1\n",
    "\n",
    "# Display the modified DataFrame\n",
    "print(merged_df)\n",
    "\n"
   ]
  },
  {
   "cell_type": "code",
   "execution_count": 115,
   "metadata": {},
   "outputs": [
    {
     "name": "stdout",
     "output_type": "stream",
     "text": [
      "Accuracy: 0.5737179487179487\n"
     ]
    }
   ],
   "source": [
    "X = merged_df[['Month', 'Year', 'Inflation Rate', 'Iraq War', 'Financial Crisis', 'COVID-19 Pandemic', 'Democrat Term', 'Republican Term']]\n",
    "Y = merged_df['Change Direction']\n",
    "\n",
    "# Split the data into training and testing sets\n",
    "X_train, X_test, Y_train, Y_test = train_test_split(X, Y, test_size=0.8)\n",
    "\n",
    "# Initialize and train the model (Random Forest Classifier)\n",
    "model = RandomForestClassifier()\n",
    "model.fit(X_train, Y_train)\n",
    "\n",
    "# Predict on the testing set\n",
    "y_pred = model.predict(X_test)\n",
    "\n",
    "# Evaluate model performance (accuracy)\n",
    "accuracy = accuracy_score(Y_test, y_pred)\n",
    "print(\"Accuracy:\", accuracy)"
   ]
  },
  {
   "cell_type": "code",
   "execution_count": null,
   "metadata": {},
   "outputs": [],
   "source": []
  }
 ],
 "metadata": {
  "kernelspec": {
   "display_name": "Python 3",
   "language": "python",
   "name": "python3"
  },
  "language_info": {
   "codemirror_mode": {
    "name": "ipython",
    "version": 3
   },
   "file_extension": ".py",
   "mimetype": "text/x-python",
   "name": "python",
   "nbconvert_exporter": "python",
   "pygments_lexer": "ipython3",
   "version": "3.12.0"
  }
 },
 "nbformat": 4,
 "nbformat_minor": 2
}
